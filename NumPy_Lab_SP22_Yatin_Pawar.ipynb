{
 "cells": [
  {
   "cell_type": "code",
   "execution_count": 4,
   "id": "265c7a3a-f26b-485a-8bd9-6a59d204eb86",
   "metadata": {},
   "outputs": [
    {
     "name": "stdout",
     "output_type": "stream",
     "text": [
      "[0. 0. 0. 0. 0. 0. 0. 0. 0. 0. 0. 0. 0. 0. 0. 0. 0. 0. 0. 0. 0. 0. 0. 0.\n",
      " 0. 0. 0. 0. 0. 0. 0. 0. 0. 0. 0. 0. 0. 0. 0. 0.]\n"
     ]
    }
   ],
   "source": [
    "###1 Create a null vector (zeros) of size 40\n",
    "##(a) create in one dimension, as array A1\n",
    "import numpy as np\n",
    "A1 = np.zeros(40)\n",
    "print(A1)"
   ]
  },
  {
   "cell_type": "code",
   "execution_count": 5,
   "id": "7bc93796-afba-44b9-a462-432b8f6e3742",
   "metadata": {},
   "outputs": [
    {
     "name": "stdout",
     "output_type": "stream",
     "text": [
      "[[0. 0. 0. 0. 0.]\n",
      " [0. 0. 0. 0. 0.]\n",
      " [0. 0. 0. 0. 0.]\n",
      " [0. 0. 0. 0. 0.]\n",
      " [0. 0. 0. 0. 0.]\n",
      " [0. 0. 0. 0. 0.]\n",
      " [0. 0. 0. 0. 0.]\n",
      " [0. 0. 0. 0. 0.]]\n"
     ]
    }
   ],
   "source": [
    "##(b) create in two dimension with 8 rows and 5 columns, as array A2\n",
    "A2 = np.zeros((8, 5))\n",
    "print(A2)"
   ]
  },
  {
   "cell_type": "code",
   "execution_count": 7,
   "id": "7ec12dae-a65f-4a52-b562-a848ea17915b",
   "metadata": {},
   "outputs": [
    {
     "name": "stdout",
     "output_type": "stream",
     "text": [
      "[[0. 0. 1. 0. 0.]\n",
      " [0. 0. 1. 0. 0.]\n",
      " [0. 0. 1. 0. 0.]\n",
      " [0. 0. 1. 0. 0.]\n",
      " [0. 0. 1. 0. 0.]\n",
      " [0. 0. 1. 0. 0.]\n",
      " [0. 0. 1. 0. 0.]\n",
      " [0. 0. 1. 0. 0.]]\n"
     ]
    }
   ],
   "source": [
    "###(c) create a new array as A3, which is a copy of A2, except that all values on the third column are 1\n",
    "A3 = A2.copy()\n",
    "A3[:,2] = 1\n",
    "print(A3)"
   ]
  },
  {
   "cell_type": "code",
   "execution_count": 11,
   "id": "83bdb9eb-8138-4437-9302-67055fc585cc",
   "metadata": {},
   "outputs": [
    {
     "name": "stdout",
     "output_type": "stream",
     "text": [
      "Array B1:\n",
      "[ 1  2  3  4  5  6  7  8  9 10 11 12 13 14 15 16 17 18 19 20 21 22 23 24\n",
      " 25 26 27 28 29 30 31 32 33 34 35 36 37 38 39 40]\n"
     ]
    }
   ],
   "source": [
    "###2. Create a vector with values ranging from 1 to 40\n",
    "##(a) create in one dimension, as array B1\n",
    "\n",
    "B1 = np.arange(1,41)\n",
    "print(\"Array B1:\")\n",
    "print(B1)"
   ]
  },
  {
   "cell_type": "code",
   "execution_count": 12,
   "id": "cbea274e-6f3a-4888-bbc8-caa6fc7b04a5",
   "metadata": {},
   "outputs": [
    {
     "name": "stdout",
     "output_type": "stream",
     "text": [
      "Array B2:\n",
      "[[ 1  2  3  4  5]\n",
      " [ 6  7  8  9 10]\n",
      " [11 12 13 14 15]\n",
      " [16 17 18 19 20]\n",
      " [21 22 23 24 25]\n",
      " [26 27 28 29 30]\n",
      " [31 32 33 34 35]\n",
      " [36 37 38 39 40]]\n"
     ]
    }
   ],
   "source": [
    "###(b) create in two dimenion with 8 rows and 5 columns, as array B2\n",
    "B2 = B1.reshape(8,5)\n",
    "print(\"Array B2:\")\n",
    "print(B2)"
   ]
  },
  {
   "cell_type": "code",
   "execution_count": 13,
   "id": "d93de298-71fc-422f-914f-36a65a68c54a",
   "metadata": {},
   "outputs": [
    {
     "name": "stdout",
     "output_type": "stream",
     "text": [
      "Array B3:\n",
      "[[ 1.  2.  4.  4.  5.]\n",
      " [ 6.  7.  9.  9. 10.]\n",
      " [11. 12. 14. 14. 15.]\n",
      " [16. 17. 19. 19. 20.]\n",
      " [21. 22. 24. 24. 25.]\n",
      " [26. 27. 29. 29. 30.]\n",
      " [31. 32. 34. 34. 35.]\n",
      " [36. 37. 39. 39. 40.]]\n"
     ]
    }
   ],
   "source": [
    "###(c) create a new array B3 by adding B2 with A3 (,or increase all values of fourth column of B2 by 1)\n",
    "B3 = A3 + B2\n",
    "print(\"Array B3:\")\n",
    "print(B3)"
   ]
  },
  {
   "cell_type": "code",
   "execution_count": 14,
   "id": "b695d3ae-b40a-42ee-9347-2240ea2edb5d",
   "metadata": {},
   "outputs": [
    {
     "name": "stdout",
     "output_type": "stream",
     "text": [
      "Array B4:\n",
      "[[-10.  -9.  -7.  -7.  -6.]\n",
      " [ -5.  -4.  -2.  -2.  -1.]\n",
      " [  0.   1.   3.   3.   4.]\n",
      " [  5.   6.   8.   8.   9.]\n",
      " [ 10.  11.  13.  13.  14.]\n",
      " [ 15.  16.  18.  18.  19.]\n",
      " [ 20.  21.  23.  23.  24.]\n",
      " [ 25.  26.  28.  28.  29.]]\n"
     ]
    }
   ],
   "source": [
    "###(d) create a new array B4 with the values from B3 subtracted by 11\n",
    "B4 = B3-11\n",
    "print(\"Array B4:\")\n",
    "print(B4)"
   ]
  },
  {
   "cell_type": "code",
   "execution_count": 15,
   "id": "77608da4-a163-49c5-8646-b41014a41038",
   "metadata": {},
   "outputs": [
    {
     "name": "stdout",
     "output_type": "stream",
     "text": [
      "Checkerboard pattern starts from 0:\n",
      "[[0 1 0 1 0 1 0 1 0 1 0 1]\n",
      " [1 0 1 0 1 0 1 0 1 0 1 0]\n",
      " [0 1 0 1 0 1 0 1 0 1 0 1]\n",
      " [1 0 1 0 1 0 1 0 1 0 1 0]\n",
      " [0 1 0 1 0 1 0 1 0 1 0 1]\n",
      " [1 0 1 0 1 0 1 0 1 0 1 0]\n",
      " [0 1 0 1 0 1 0 1 0 1 0 1]\n",
      " [1 0 1 0 1 0 1 0 1 0 1 0]\n",
      " [0 1 0 1 0 1 0 1 0 1 0 1]\n",
      " [1 0 1 0 1 0 1 0 1 0 1 0]\n",
      " [0 1 0 1 0 1 0 1 0 1 0 1]\n",
      " [1 0 1 0 1 0 1 0 1 0 1 0]]\n"
     ]
    }
   ],
   "source": [
    "###3. Create a 12x12 matrix and fill it with a checkerboard pattern\n",
    "##(a) first row and first column starts from 0\n",
    "x1 = np.zeros((12,12),dtype=int)\n",
    "x1[1::2,::2] = 1\n",
    "x1[::2,1::2] = 1\n",
    "print(\"Checkerboard pattern starts from 0:\")\n",
    "print(x1)"
   ]
  },
  {
   "cell_type": "code",
   "execution_count": 16,
   "id": "c9a8fe33-d019-4936-8bcd-143f52623621",
   "metadata": {},
   "outputs": [
    {
     "name": "stdout",
     "output_type": "stream",
     "text": [
      "Checkerboard pattern starts from 1:\n",
      "[[1 0 1 0 1 0 1 0 1 0 1 0]\n",
      " [0 1 0 1 0 1 0 1 0 1 0 1]\n",
      " [1 0 1 0 1 0 1 0 1 0 1 0]\n",
      " [0 1 0 1 0 1 0 1 0 1 0 1]\n",
      " [1 0 1 0 1 0 1 0 1 0 1 0]\n",
      " [0 1 0 1 0 1 0 1 0 1 0 1]\n",
      " [1 0 1 0 1 0 1 0 1 0 1 0]\n",
      " [0 1 0 1 0 1 0 1 0 1 0 1]\n",
      " [1 0 1 0 1 0 1 0 1 0 1 0]\n",
      " [0 1 0 1 0 1 0 1 0 1 0 1]\n",
      " [1 0 1 0 1 0 1 0 1 0 1 0]\n",
      " [0 1 0 1 0 1 0 1 0 1 0 1]]\n"
     ]
    }
   ],
   "source": [
    "##(b) first row and first column starts from 1\n",
    "x2 = np.ones((12,12),dtype=int)\n",
    "x2[1::2,::2] = 0\n",
    "x2[::2,1::2] = 0\n",
    "print(\"Checkerboard pattern starts from 1:\")\n",
    "print(x2)"
   ]
  },
  {
   "cell_type": "code",
   "execution_count": 17,
   "id": "0403d46b-1236-4e55-bd0b-901ff5c49817",
   "metadata": {},
   "outputs": [
    {
     "name": "stdout",
     "output_type": "stream",
     "text": [
      "All integer ones:\n",
      "[[1 1 1 1 1 1 1 1 1 1 1 1]\n",
      " [1 1 1 1 1 1 1 1 1 1 1 1]\n",
      " [1 1 1 1 1 1 1 1 1 1 1 1]\n",
      " [1 1 1 1 1 1 1 1 1 1 1 1]\n",
      " [1 1 1 1 1 1 1 1 1 1 1 1]\n",
      " [1 1 1 1 1 1 1 1 1 1 1 1]\n",
      " [1 1 1 1 1 1 1 1 1 1 1 1]\n",
      " [1 1 1 1 1 1 1 1 1 1 1 1]\n",
      " [1 1 1 1 1 1 1 1 1 1 1 1]\n",
      " [1 1 1 1 1 1 1 1 1 1 1 1]\n",
      " [1 1 1 1 1 1 1 1 1 1 1 1]\n",
      " [1 1 1 1 1 1 1 1 1 1 1 1]]\n"
     ]
    }
   ],
   "source": [
    "##(c) with all numbers are 1 (integer)\n",
    "x3 = np.ones((12,12),dtype=int)\n",
    "print(\"All integer ones:\")\n",
    "print(x3)"
   ]
  },
  {
   "cell_type": "code",
   "execution_count": 18,
   "id": "eef8d17d-67c6-4d8c-a3b9-bcad8b472021",
   "metadata": {},
   "outputs": [
    {
     "name": "stdout",
     "output_type": "stream",
     "text": [
      "All floating-point ones:\n",
      "[[1. 1. 1. 1. 1. 1. 1. 1. 1. 1. 1. 1.]\n",
      " [1. 1. 1. 1. 1. 1. 1. 1. 1. 1. 1. 1.]\n",
      " [1. 1. 1. 1. 1. 1. 1. 1. 1. 1. 1. 1.]\n",
      " [1. 1. 1. 1. 1. 1. 1. 1. 1. 1. 1. 1.]\n",
      " [1. 1. 1. 1. 1. 1. 1. 1. 1. 1. 1. 1.]\n",
      " [1. 1. 1. 1. 1. 1. 1. 1. 1. 1. 1. 1.]\n",
      " [1. 1. 1. 1. 1. 1. 1. 1. 1. 1. 1. 1.]\n",
      " [1. 1. 1. 1. 1. 1. 1. 1. 1. 1. 1. 1.]\n",
      " [1. 1. 1. 1. 1. 1. 1. 1. 1. 1. 1. 1.]\n",
      " [1. 1. 1. 1. 1. 1. 1. 1. 1. 1. 1. 1.]\n",
      " [1. 1. 1. 1. 1. 1. 1. 1. 1. 1. 1. 1.]\n",
      " [1. 1. 1. 1. 1. 1. 1. 1. 1. 1. 1. 1.]]\n"
     ]
    }
   ],
   "source": [
    "##(d) with all numbers are 1.0 (floating-point)\n",
    "Y = np.ones((12,12),dtype=float)\n",
    "print(\"All floating-point ones:\")\n",
    "print(Y)"
   ]
  },
  {
   "cell_type": "code",
   "execution_count": 19,
   "id": "a5c10825-dbca-43a8-a46a-8ae21a44d2fb",
   "metadata": {},
   "outputs": [
    {
     "name": "stdout",
     "output_type": "stream",
     "text": [
      "Matrix P:\n",
      "[[0. 1. 2. 3. 4. 5. 6.]\n",
      " [0. 1. 2. 3. 4. 5. 6.]\n",
      " [0. 1. 2. 3. 4. 5. 6.]\n",
      " [0. 1. 2. 3. 4. 5. 6.]\n",
      " [0. 1. 2. 3. 4. 5. 6.]\n",
      " [0. 1. 2. 3. 4. 5. 6.]]\n"
     ]
    }
   ],
   "source": [
    "###4. Create 7x7 matrixes \n",
    "##(a) P matrix with row values ranging from 0 to 6\n",
    "arr = np.array([[0,1,2,3,4,5,6]],dtype=float)\n",
    "P = np.repeat(arr,6, axis=0)\n",
    "print(\"Matrix P:\")\n",
    "print(P)"
   ]
  },
  {
   "cell_type": "code",
   "execution_count": 20,
   "id": "28c1d011-5ba1-4648-8d5d-3a2fcf9ee408",
   "metadata": {},
   "outputs": [
    {
     "name": "stdout",
     "output_type": "stream",
     "text": [
      "Matrix Q:\n",
      "[[0. 0. 0. 0. 0. 0. 0.]\n",
      " [1. 1. 1. 1. 1. 1. 1.]\n",
      " [2. 2. 2. 2. 2. 2. 2.]\n",
      " [3. 3. 3. 3. 3. 3. 3.]\n",
      " [4. 4. 4. 4. 4. 4. 4.]\n",
      " [5. 5. 5. 5. 5. 5. 5.]\n",
      " [6. 6. 6. 6. 6. 6. 6.]]\n",
      "Matrix R:\n",
      "[[ 0.  0.  0.  0.  0.  0.  0.]\n",
      " [ 1.  1.  1.  1.  1.  1.  1.]\n",
      " [ 3.  3.  3.  3.  3.  3.  3.]\n",
      " [ 6.  6.  6.  6.  6.  6.  6.]\n",
      " [10. 10. 10. 10. 10. 10. 10.]\n",
      " [15. 15. 15. 15. 15. 15. 15.]\n",
      " [21. 21. 21. 21. 21. 21. 21.]]\n",
      "Matrix S:\n",
      "[[ 0.  0.  0.  0.  0.  0.  0.]\n",
      " [ 1.  2.  3.  4.  5.  6.  7.]\n",
      " [ 2.  4.  6.  8. 10. 12. 14.]\n",
      " [ 3.  6.  9. 12. 15. 18. 21.]\n",
      " [ 4.  8. 12. 16. 20. 24. 28.]\n",
      " [ 5. 10. 15. 20. 25. 30. 35.]\n",
      " [ 6. 12. 18. 24. 30. 36. 42.]]\n",
      "This is List T:\n",
      "[  0.   0.   0.   0.   0.   0.   0.   1.   2.   3.   4.   5.   6.   7.\n",
      "   9.  11.  13.  15.  17.  19.  21.  24.  27.  30.  33.  36.  39.  42.\n",
      "  46.  50.  54.  58.  62.  66.  70.  75.  80.  85.  90.  95. 100. 105.\n",
      " 111. 117. 123. 129. 135. 141. 147.]\n"
     ]
    }
   ],
   "source": [
    "##(b) Q matrix with column values ranging from 0 to 6\n",
    "\n",
    "v1 = np.array([0,0,0,0,0,0,0], dtype=float)\n",
    "v2 = np.array([1,1,1,1,1,1,1], dtype=float)\n",
    "v3 = np.array([2,2,2,2,2,2,2], dtype=float)\n",
    "v4 = np.array([3,3,3,3,3,3,3], dtype=float)\n",
    "v5 = np.array([4,4,4,4,4,4,4], dtype=float)\n",
    "v6 = np.array([5,5,5,5,5,5,5], dtype=float)\n",
    "v7 = np.array([6,6,6,6,6,6,6], dtype=float)\n",
    "\n",
    "Q = np.vstack([v1,v2,v3,v4,v5,v6,v7])\n",
    "print(\"Matrix Q:\")\n",
    "print(Q)\n",
    "\n",
    "##(c) R matrix with cumulative sum from previous row of matrix Q\n",
    "R = Q.cumsum(axis=0)\n",
    "print(\"Matrix R:\")\n",
    "print(R)\n",
    "\n",
    "##(d) S matrix with cumulative sum from previous column of matrix Q\n",
    "S = Q.cumsum(axis=1)\n",
    "print(\"Matrix S:\")\n",
    "print(S)\n",
    "\n",
    "##(e) T list with cumulative sun from previous value rolled out in order of row and column from matrix Q\n",
    "T=np.cumsum(Q)\n",
    "print(\"This is List T:\")\n",
    "print(T)"
   ]
  },
  {
   "cell_type": "code",
   "execution_count": 21,
   "id": "2e776136-a871-485b-bcb0-259cf1a1c7f1",
   "metadata": {},
   "outputs": [
    {
     "name": "stdout",
     "output_type": "stream",
     "text": [
      "Matrix X:\n",
      "[[36 62 24  0 54 38 50 32 79 10 77  1]\n",
      " [39 40 36 65 85  3  8 34 40 52 28 19]\n",
      " [ 2 34 63 41 58 33 46  2 70 88 70 13]]\n"
     ]
    }
   ],
   "source": [
    "###5. Create a matrix, block segments, and integrations\n",
    "##(a) create matrix X of 3 rows and 12 columns of random integers range [0,100]\n",
    "X = np.random.randint(0,100,(3,12))\n",
    "print(\"Matrix X:\")\n",
    "print(X)"
   ]
  },
  {
   "cell_type": "code",
   "execution_count": 22,
   "id": "e35f1dd4-cee2-41d9-95c9-508f82176794",
   "metadata": {},
   "outputs": [
    {
     "name": "stdout",
     "output_type": "stream",
     "text": [
      "Matrix XA:\n",
      "[[36 62 24]\n",
      " [39 40 36]\n",
      " [ 2 34 63]]\n"
     ]
    }
   ],
   "source": [
    "##(b) create matrix XA of 3 rows and 3 columns of subset matrix of X with all rows, and the first three columns (0 to 2)\n",
    "XA = X[0:, :3]\n",
    "print(\"Matrix XA:\")\n",
    "print(XA)"
   ]
  },
  {
   "cell_type": "code",
   "execution_count": 23,
   "id": "31cf4e33-d73a-46db-9f60-cb4c69f78139",
   "metadata": {},
   "outputs": [
    {
     "name": "stdout",
     "output_type": "stream",
     "text": [
      "Matrix XB:\n",
      "[[ 0 54 38]\n",
      " [65 85  3]\n",
      " [41 58 33]]\n"
     ]
    }
   ],
   "source": [
    "##(c) create matrix XB of 3 rows and 3 columns of subset matrix of X with all rows, and the second quarter columns (3 to 5)\n",
    "XB = X[:3,3:6]\n",
    "print(\"Matrix XB:\")\n",
    "print(XB)"
   ]
  },
  {
   "cell_type": "code",
   "execution_count": 24,
   "id": "7cf1827a-5836-46f2-8687-e5303a817b4e",
   "metadata": {},
   "outputs": [
    {
     "name": "stdout",
     "output_type": "stream",
     "text": [
      "Matrix XC:\n",
      "[[50 32 79]\n",
      " [ 8 34 40]\n",
      " [46  2 70]]\n"
     ]
    }
   ],
   "source": [
    "##(d)create matrix XC of 3 rows and 3 columns of subset matrix of X with all rows, and tbe third quarter columns (6 to 8)\n",
    "XC = X[:3,6:9]\n",
    "print(\"Matrix XC:\")\n",
    "print(XC)"
   ]
  },
  {
   "cell_type": "code",
   "execution_count": 25,
   "id": "42eff356-baa1-49a8-b3d2-d7e0db0ac0ae",
   "metadata": {},
   "outputs": [
    {
     "name": "stdout",
     "output_type": "stream",
     "text": [
      "Matrix XD:\n",
      "[[10 77  1]\n",
      " [52 28 19]\n",
      " [88 70 13]]\n"
     ]
    }
   ],
   "source": [
    "##(e)create matrix XD of 3 rows and 3 columns of subset matrix of X with all rows, and tbe fourth quarter columns (9 to 11)\n",
    "XD = X[:3,9:12]\n",
    "print(\"Matrix XD:\")\n",
    "print(XD)"
   ]
  },
  {
   "cell_type": "code",
   "execution_count": 26,
   "id": "26612705-e935-47d5-8851-508a78e3ccb5",
   "metadata": {},
   "outputs": [
    {
     "name": "stdout",
     "output_type": "stream",
     "text": [
      "Matrix Y:\n",
      "[[10 77  1 36 62 24  0 54 38 50 32 79]\n",
      " [52 28 19 39 40 36 65 85  3  8 34 40]\n",
      " [88 70 13  2 34 63 41 58 33 46  2 70]]\n"
     ]
    }
   ],
   "source": [
    "##(f)create matrix Y of 3 rows and 12 columns by putting together in the order of XD XA XB XC from column index 0 to 11\n",
    "Y = np.concatenate((XD, XA, XB, XC),  axis=1 )\n",
    "print(\"Matrix Y:\")\n",
    "print(Y)"
   ]
  },
  {
   "cell_type": "code",
   "execution_count": 27,
   "id": "be230a4b-f657-49cd-91f5-5d9980fc7fbc",
   "metadata": {},
   "outputs": [
    {
     "name": "stdout",
     "output_type": "stream",
     "text": [
      "Matrix Z:\n",
      "[[10 77  1]\n",
      " [52 28 19]\n",
      " [88 70 13]\n",
      " [36 62 24]\n",
      " [39 40 36]\n",
      " [ 2 34 63]\n",
      " [ 0 54 38]\n",
      " [65 85  3]\n",
      " [41 58 33]\n",
      " [50 32 79]\n",
      " [ 8 34 40]\n",
      " [46  2 70]]\n"
     ]
    }
   ],
   "source": [
    "##(g)create matrix Z of 12 rows and 3 columns by putting together vertically in the order of XD XA XB XC\n",
    "Z = np.concatenate((XD, XA, XB, XC),  axis=0 )\n",
    "print(\"Matrix Z:\")\n",
    "print(Z)"
   ]
  },
  {
   "cell_type": "code",
   "execution_count": 3,
   "id": "ecd05b23-1b03-47c7-b3ee-124208be05d8",
   "metadata": {},
   "outputs": [
    {
     "name": "stdout",
     "output_type": "stream",
     "text": [
      "Matrix A:\n",
      "[[1 2]\n",
      " [3 4]\n",
      " [5 6]\n",
      " [7 8]]\n",
      "Matrix B:\n",
      "[[ 9 10 11 12]\n",
      " [13 14 15 16]]\n",
      "Matrix C = AB:\n",
      "[[ 35  38  41  44]\n",
      " [ 79  86  93 100]\n",
      " [123 134 145 156]\n",
      " [167 182 197 212]]\n"
     ]
    }
   ],
   "source": [
    "###6. Create the following two matrixes in the program\n",
    "##and do the matrix multiplication where C = AB\n",
    "import numpy as np\n",
    "A = np.arange(1,9).reshape((4,2))\n",
    "print(\"Matrix A:\")\n",
    "print(A)\n",
    "\n",
    "B = np.arange(9,17).reshape((2,4))\n",
    "print(\"Matrix B:\")\n",
    "print(B)\n",
    "\n",
    "C = np.dot(A,B)\n",
    "print(\"Matrix C = AB:\")\n",
    "print(C)"
   ]
  },
  {
   "cell_type": "code",
   "execution_count": null,
   "id": "8e8c4b86-c2ac-49fa-ad6c-425d25db3377",
   "metadata": {},
   "outputs": [],
   "source": []
  },
  {
   "cell_type": "code",
   "execution_count": null,
   "id": "7b72ecb0-f8df-4a4d-bf51-a8e6ca5b7c73",
   "metadata": {},
   "outputs": [],
   "source": []
  }
 ],
 "metadata": {
  "kernelspec": {
   "display_name": "ANA522 (default)",
   "language": "python",
   "name": "ada522"
  },
  "language_info": {
   "codemirror_mode": {
    "name": "ipython",
    "version": 3
   },
   "file_extension": ".py",
   "mimetype": "text/x-python",
   "name": "python",
   "nbconvert_exporter": "python",
   "pygments_lexer": "ipython3",
   "version": "3.8.5"
  }
 },
 "nbformat": 4,
 "nbformat_minor": 5
}
