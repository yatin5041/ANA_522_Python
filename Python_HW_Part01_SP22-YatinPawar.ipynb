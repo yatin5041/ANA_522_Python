{
 "cells": [
  {
   "cell_type": "code",
   "execution_count": 1,
   "id": "d9171347-d120-41c5-953b-7ec098eb6752",
   "metadata": {},
   "outputs": [
    {
     "name": "stdout",
     "output_type": "stream",
     "text": [
      "The Zen of Python, by Tim Peters\n"
     ]
    }
   ],
   "source": [
    "### Homework Question One.\n",
    "\n",
    "secret = \"\"\"Gur Mra bs Clguba, ol Gvz Crgref\"\"\"\n",
    "\n",
    "# in below line have used dictionary feature, where initially it is empty and then populated using char(i+idx)\n",
    "d = {}\n",
    "for idx in (65, 97):\n",
    "    for i in range(26):\n",
    "        d[chr(i+idx)] = chr((i+13) % 26 + idx)\n",
    "       \n",
    "        \n",
    "print (\"\".join([d.get(idx, idx) for idx in secret]))"
   ]
  },
  {
   "cell_type": "code",
   "execution_count": 2,
   "id": "9570c2cd-658d-4b5f-bbc6-d9194fa9bbd8",
   "metadata": {},
   "outputs": [
    {
     "name": "stdout",
     "output_type": "stream",
     "text": [
      "Esp Kpy zq Ajeszy, mj Etx Apepcd\n"
     ]
    }
   ],
   "source": [
    "### Homework Question Two.\n",
    "\n",
    "secret = \"\"\"The Zen of Python, by Tim Peters\"\"\"\n",
    "\n",
    "# in below line have used dictionary feature, where initially it is empty and then populated using char(i+idx)\n",
    "d = {}\n",
    "for idx in (65, 97):\n",
    "    for i in range(26):\n",
    "        d[chr(i+idx)] = chr((i+11) % 26 + idx)\n",
    "\n",
    "print (\"\".join([d.get(idx, idx) for idx in secret]))"
   ]
  },
  {
   "cell_type": "code",
   "execution_count": null,
   "id": "eea9ac9e-7846-43eb-8aee-57c23bae686d",
   "metadata": {},
   "outputs": [],
   "source": []
  }
 ],
 "metadata": {
  "kernelspec": {
   "display_name": "ANA522 (default)",
   "language": "python",
   "name": "ada522"
  },
  "language_info": {
   "codemirror_mode": {
    "name": "ipython",
    "version": 3
   },
   "file_extension": ".py",
   "mimetype": "text/x-python",
   "name": "python",
   "nbconvert_exporter": "python",
   "pygments_lexer": "ipython3",
   "version": "3.8.5"
  }
 },
 "nbformat": 4,
 "nbformat_minor": 5
}
