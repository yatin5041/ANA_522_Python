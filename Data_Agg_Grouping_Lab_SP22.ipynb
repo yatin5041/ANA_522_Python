{
 "cells": [
  {
   "cell_type": "markdown",
   "id": "a81e84c8-f041-42ab-98a5-0f48e85fc141",
   "metadata": {},
   "source": [
    "## ANA-522-OL1 Spring 2022\n",
    "## Mod04 Week08 Lab: Data Aggregation and Group Operations Lab\n",
    "## Suggested Due: Friday March 4th at midnight ( No need to submit )"
   ]
  },
  {
   "cell_type": "markdown",
   "id": "c6989f40-5df0-48c1-9b39-68a5c28086ed",
   "metadata": {},
   "source": [
    "## Titanic Dataset\n",
    "The sinking of the Titanic is one of the most infamous shipwrecks in history.  \n",
    "\n",
    "On April 15, 1912, during her maiden voyage, the widely considered “unsinkable” RMS Titanic sank after colliding with an iceberg. Unfortunately, there weren’t enough lifeboats for everyone onboard, resulting in the death of 1502 out of 2224 passengers and crew.  \n",
    "\n",
    "While there was some element of luck involved in surviving, it seems some groups of people were more likely to survive than others. With the availabilities of data analytic and machine learning technologies these days, people are researching in finding clues of survival from hidden data patterns.\n",
    "\n",
    "Our purpose in this Lab exercise is to transform the dataset with proper multiple indexing and reshaping so as to easily slice information from categorical perspectives.\n",
    "\n",
    "#### The Titanic dataset is readily available to be loaded on ANA522 JupyterLab with the filename:      \n",
    "#### \"/home/ANA522/Titanic.csv\"\n",
    "\n",
    "<img src=\"http://mathqs.mcdaniel.edu/ANA522/exam/Titanic_DD.png\" width=\"800\">\n",
    "\n",
    "<img src=\"http://mathqs.mcdaniel.edu/ANA522/exam/Titanic_Var_Note.png\" width=\"600\">"
   ]
  },
  {
   "cell_type": "code",
   "execution_count": null,
   "id": "3b96f0da-18b1-492f-8885-31edfac1d69c",
   "metadata": {},
   "outputs": [],
   "source": [
    "import numpy as np\n",
    "import pandas as pd"
   ]
  },
  {
   "cell_type": "code",
   "execution_count": null,
   "id": "6f9c6443-b3fa-4f0d-b8e1-feb8a16a082d",
   "metadata": {},
   "outputs": [],
   "source": [
    "titanic = pd.read_csv('/home/ANA522/Titanic.csv', sep=',')\n",
    "titanic.shape"
   ]
  },
  {
   "cell_type": "markdown",
   "id": "6ddb9d76-fde6-479b-ba76-a293702b0b8c",
   "metadata": {},
   "source": [
    "### Q01. Group Titanic dataset by Sex attribute to see Age statistic.\n",
    "<img src=\"http://mathqs.mcdaniel.edu/ANA522/mod04/img/W8T_Q01.png\" \n",
    "     width=\"500\" height=\"300\" alt=\"attributes list\" />"
   ]
  },
  {
   "cell_type": "markdown",
   "id": "77bc1477-6e6d-43f6-a82c-2736e281c8b4",
   "metadata": {},
   "source": [
    "### Q02. Display average stats of all Titanic dataset attributes grouped by Sex\n",
    "<img src=\"http://mathqs.mcdaniel.edu/ANA522/mod04/img/W8T_Q02.png\" \n",
    "     width=\"600\" height=\"400\" alt=\"attributes list\" />"
   ]
  },
  {
   "cell_type": "markdown",
   "id": "f33343c7-c168-4a20-86f0-9723d626a69e",
   "metadata": {},
   "source": [
    "### Q03. Display only Age average stats of Titanic dataset grouped by Sex\n",
    "<pre>\n",
    "Sex\n",
    "female    27.915709\n",
    "male      30.726645\n",
    "Name: Age, dtype: float64\n",
    "</pre>"
   ]
  },
  {
   "cell_type": "markdown",
   "id": "b4133cee-72dd-4211-854e-441b6333d322",
   "metadata": {},
   "source": [
    "### Q04. Group Titanic dataset by both Sex and Pclass to see Age statistic.\n",
    "<img src=\"http://mathqs.mcdaniel.edu/ANA522/mod04/img/W8T_Q04.png\" \n",
    "     width=\"500\" height=\"300\" alt=\"attributes list\" />"
   ]
  },
  {
   "cell_type": "markdown",
   "id": "ab7eed67-5ba8-4098-a5ba-3bdd3c75c590",
   "metadata": {},
   "source": [
    "### Q05. Display average stats of Titanic dataset attributes grouped by Sex and Pclass\n",
    "<img src=\"http://mathqs.mcdaniel.edu/ANA522/mod04/img/W8T_Q05.png\" \n",
    "     width=\"600\" height=\"400\" alt=\"attributes list\" />"
   ]
  },
  {
   "cell_type": "markdown",
   "id": "f0c5cee8-9397-45d6-bf82-098bd6a0beaf",
   "metadata": {},
   "source": [
    "### Q06. Display survival rate of Titanic dataset grouped by Sex and Pclass\n",
    "<pre>\n",
    "Sex     Pclass\n",
    "female  1         0.968085\n",
    "        2         0.921053\n",
    "        3         0.500000\n",
    "male    1         0.368852\n",
    "        2         0.157407\n",
    "        3         0.135447\n",
    "Name: Survived, dtype: float64\n",
    "</pre>"
   ]
  },
  {
   "cell_type": "markdown",
   "id": "b350b96c-eef0-489c-be3c-5b3b9165c096",
   "metadata": {},
   "source": [
    "### Q07. Display survival rate of Titanic dataset with Sex as index and Pclass as columns\n",
    "<img src=\"http://mathqs.mcdaniel.edu/ANA522/mod04/img/W8T_Q07.png\" \n",
    "     width=\"300\" height=\"150\" alt=\"attributes list\" />"
   ]
  },
  {
   "cell_type": "markdown",
   "id": "2e59faa5-30ea-4c6d-a0d7-ec395aac4e3f",
   "metadata": {},
   "source": [
    "### Q08. Use another groupby approach to Display survival rate of Titanic dataset with Sex as index and Pclass as columns\n",
    "<img src=\"http://mathqs.mcdaniel.edu/ANA522/mod04/img/W8T_Q08.png\" \n",
    "     width=\"300\" height=\"150\" alt=\"attributes list\" />"
   ]
  },
  {
   "cell_type": "markdown",
   "id": "a777b128-c28c-498a-934a-a3073a6fccf1",
   "metadata": {},
   "source": [
    "### Q09. Display indexing name and details of Titanic dataset grouped by Embarked\n",
    "<img src=\"http://mathqs.mcdaniel.edu/ANA522/mod04/img/W8T_Q09_1.png\" \n",
    "     width=\"500\" height=\"300\" alt=\"attributes list\" />\n",
    "     <br>\n",
    "<img src=\"http://mathqs.mcdaniel.edu/ANA522/mod04/img/W8T_Q09_2.png\" \n",
    "     width=\"500\" height=\"300\" alt=\"attributes list\" />"
   ]
  },
  {
   "cell_type": "markdown",
   "id": "77c5fcbb-35cd-466c-82ac-006637c8f398",
   "metadata": {},
   "source": [
    "### Q10. Display indexing name and details of Titanic dataset grouped by Pclass and Embarked\n",
    "<img src=\"http://mathqs.mcdaniel.edu/ANA522/mod04/img/W8T_Q10_1.png\" \n",
    "     width=\"200\" height=\"100\" alt=\"attributes list\" /><br>\n",
    "<img src=\"http://mathqs.mcdaniel.edu/ANA522/mod04/img/W8T_Q10_2.png\" \n",
    "     width=\"200\" height=\"100\" alt=\"attributes list\" /><br>\n",
    "<img src=\"http://mathqs.mcdaniel.edu/ANA522/mod04/img/W8T_Q10_3.png\" \n",
    "     width=\"200\" height=\"100\" alt=\"attributes list\" /><br>\n",
    "<img src=\"http://mathqs.mcdaniel.edu/ANA522/mod04/img/W8T_Q10_4.png\" \n",
    "     width=\"200\" height=\"100\" alt=\"attributes list\" />"
   ]
  },
  {
   "cell_type": "markdown",
   "id": "13bf7c57-96a1-4343-85c0-f6618adaefe7",
   "metadata": {},
   "source": [
    "### Q11. Display Age and Fare differences within Sex and Pclass groups of Titanic dataset by implementing an aggregation function\n",
    "<img src=\"http://mathqs.mcdaniel.edu/ANA522/mod04/img/W8T_Q11.png\" \n",
    "     width=\"250\" height=\"120\" alt=\"attributes list\" />"
   ]
  },
  {
   "cell_type": "markdown",
   "id": "31b617ed-a9f6-4ef7-b903-cebe31512616",
   "metadata": {},
   "source": [
    "### Q12. Display Age and Fare minimum and maximum of all Sex and Pclass groups of Titanic dataset. In addition, annotate the name of each column.\n",
    "<img src=\"http://mathqs.mcdaniel.edu/ANA522/mod04/img/W8T_Q12.png\" \n",
    "     width=\"350\" height=\"200\" alt=\"attributes list\" />"
   ]
  },
  {
   "cell_type": "markdown",
   "id": "0760ca37-e318-445c-b546-c87195451651",
   "metadata": {},
   "source": [
    "### Q13. Define a generic top function using top 10 and Fare column as arguments default. List the top 10 Fares of Titanic dataset.\n",
    "<img src=\"http://mathqs.mcdaniel.edu/ANA522/mod04/img/W8T_Q13.png\" \n",
    "     width=\"800\" height=\"600\" alt=\"attributes list\" />"
   ]
  },
  {
   "cell_type": "markdown",
   "id": "ca073fc1-c7ab-4557-9ce0-4e9c967d2dca",
   "metadata": {},
   "source": [
    "### Q14. Apply the top function to display full information of top three Fares grouped by Sex and Pclass of Titanic dataset.\n",
    "<img src=\"http://mathqs.mcdaniel.edu/ANA522/mod04/img/W8T_Q14.png\" \n",
    "     width=\"800\" height=\"600\" alt=\"attributes list\" />"
   ]
  },
  {
   "cell_type": "markdown",
   "id": "94fbff90-a057-43f3-bc9d-fd4e47773032",
   "metadata": {},
   "source": [
    "### Q15. Apply the top function to display full information of top five Age grouped by Sex and Pclass of Titanic dataset. \n",
    "<img src=\"http://mathqs.mcdaniel.edu/ANA522/mod04/img/W8T_Q15.png\" \n",
    "     width=\"800\" height=\"600\" alt=\"attributes list\" />"
   ]
  },
  {
   "cell_type": "markdown",
   "id": "a87c913c-4bab-4f28-9953-01bd02db88d6",
   "metadata": {},
   "source": [
    "### Q16. Display average Age and Fare grouped by Sex and Pclass of Titanic dataset using pivot_table\n",
    "<img src=\"http://mathqs.mcdaniel.edu/ANA522/mod04/img/W8T_Q16.png\" \n",
    "     width=\"300\" height=\"400\" alt=\"attributes list\" />"
   ]
  },
  {
   "cell_type": "markdown",
   "id": "b9c1867e-05e8-4b8b-94c6-7098a979d68c",
   "metadata": {},
   "source": [
    "### Q17. Overview total number of passengers with Pclass as columns and Sex as rows of Titanic dataset using crosstab\n",
    "<img src=\"http://mathqs.mcdaniel.edu/ANA522/mod04/img/W8T_Q17.png\" \n",
    "     width=\"250\" height=\"150\" alt=\"attributes list\" />"
   ]
  }
 ],
 "metadata": {
  "kernelspec": {
   "display_name": "ANA522 (default)",
   "language": "python",
   "name": "ada522"
  },
  "language_info": {
   "codemirror_mode": {
    "name": "ipython",
    "version": 3
   },
   "file_extension": ".py",
   "mimetype": "text/x-python",
   "name": "python",
   "nbconvert_exporter": "python",
   "pygments_lexer": "ipython3",
   "version": "3.8.5"
  }
 },
 "nbformat": 4,
 "nbformat_minor": 5
}
