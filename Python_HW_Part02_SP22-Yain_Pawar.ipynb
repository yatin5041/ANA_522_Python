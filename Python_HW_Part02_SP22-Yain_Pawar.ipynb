{
 "cells": [
  {
   "cell_type": "code",
   "execution_count": null,
   "id": "bc79eff1-81bd-4943-ac0a-34b8e9792745",
   "metadata": {},
   "outputs": [],
   "source": [
    "###1.1 (a) Use list comprehension to remove zeros on the list, so that the list becomes :\n",
    "\n",
    "limit = 1_000 # set the limit\n",
    "numbers = [] # use numbers list to create a list with numbers from 1 to limit\n",
    "for i in range(0, limit+1):\n",
    "    numbers.append(i)\n",
    "\n",
    "numbers[1] = 0 # cross out 0\n",
    "\n",
    "p=2 # implicitly cross out 1\n",
    "while p < limit:\n",
    "    for i in range(p*2,limit+1,p):\n",
    "        numbers[i]=0 # cross out multiple of p\n",
    "    p = p + 1\n",
    "    while p < limit and numbers[p]==0:\n",
    "        p = p + 1 # try next number which had not been crossed out\n",
    "        \n",
    "# the final list of all zeros and prime numbers\n",
    "#print(numbers)\n",
    "\n",
    "non_zero = [i for i in numbers if i != 0]\n",
    "print(\"Numbers excluding zeros are:\")\n",
    "print(non_zero)"
   ]
  },
  {
   "cell_type": "code",
   "execution_count": null,
   "id": "944c8876-7e58-4ce5-9152-0aa7872226cb",
   "metadata": {},
   "outputs": [],
   "source": [
    "###1.2 (b) Create a function that would return how many prime numbers are there in the\n",
    "###range of [a,b]. The program should ask user for the values of a and b, the printout\n",
    "###the answers.\n",
    "\n",
    "start = int(input(\"Please give value a:\"))\n",
    "end = int(input(\"Please give value b:\"))\n",
    "count = 0\n",
    "#print(\"prime numbers between\", start,\"and\", lower, \"are:\", count)\n",
    "\n",
    "for i in range(start,end):\n",
    "  if i>1:\n",
    "    for j in range(2,i):\n",
    "        if(i % j==0):\n",
    "            break\n",
    "    else:\n",
    "#        print(i)\n",
    "        count += 1\n",
    "#print(\"prime numbers between\", start,\"and\", end, \"are:\", count )\n",
    "print(\"There are\", count, \"prime numbers in between\", start,\"and\", end, \".\")"
   ]
  }
 ],
 "metadata": {
  "kernelspec": {
   "display_name": "ANA522 (default)",
   "language": "python",
   "name": "ada522"
  },
  "language_info": {
   "codemirror_mode": {
    "name": "ipython",
    "version": 3
   },
   "file_extension": ".py",
   "mimetype": "text/x-python",
   "name": "python",
   "nbconvert_exporter": "python",
   "pygments_lexer": "ipython3",
   "version": "3.8.5"
  }
 },
 "nbformat": 4,
 "nbformat_minor": 5
}
