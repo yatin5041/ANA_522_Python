{
 "cells": [
  {
   "cell_type": "code",
   "execution_count": 1,
   "id": "76c4da18-a498-46ad-8103-44c0dc659bd0",
   "metadata": {},
   "outputs": [
    {
     "name": "stdout",
     "output_type": "stream",
     "text": [
      "Yatin Pawar\n",
      "2525 Preston Rd\n",
      "Plano, TX 75093, United States\n"
     ]
    }
   ],
   "source": [
    "## Mod01_Lab 1: Mailing Address\n",
    "print (\"Yatin Pawar\")\n",
    "print(\"2525 Preston Rd\")\n",
    "print(\"Plano, TX 75093, United States\")"
   ]
  },
  {
   "cell_type": "code",
   "execution_count": 2,
   "id": "d2ae7b1f-5d47-4220-94c5-35bd8db754b1",
   "metadata": {},
   "outputs": [
    {
     "name": "stdin",
     "output_type": "stream",
     "text": [
      "Enter the length of the room in feet: 8\n",
      "Enter the width of the room in feet: 5\n"
     ]
    },
    {
     "name": "stdout",
     "output_type": "stream",
     "text": [
      "The area of a room is 40.0 square feet\n"
     ]
    }
   ],
   "source": [
    "## Mod01_Lab 2: Area of a Room\n",
    "a=float(input(\"Enter the length of the room in feet:\"))\n",
    "b=float(input(\"Enter the width of the room in feet:\"))\n",
    "c=a*b\n",
    "d=round(c,2)\n",
    "print(\"The area of a room is \" + str(d) + \" square feet\")"
   ]
  },
  {
   "cell_type": "code",
   "execution_count": 3,
   "id": "2d68e995-a28a-4c16-a13c-e22050faa749",
   "metadata": {},
   "outputs": [
    {
     "name": "stdin",
     "output_type": "stream",
     "text": [
      "Enter the values of a: 5\n",
      "Enter the values of b: 6\n"
     ]
    },
    {
     "name": "stdout",
     "output_type": "stream",
     "text": [
      "5 + 6 is 11\n",
      "5 - 6 is -1\n",
      "5 * 6 is 30\n",
      "5 / 6 is 0.8333333333333334\n",
      "5 % 6 is 5\n",
      "5 ^ 6 is 15625\n"
     ]
    }
   ],
   "source": [
    "## Mod01_Lab 3: Arithmetic Operations using Binary Operator\n",
    "\n",
    "a = int(input(\"Enter the values of a:\"))\n",
    "b = int(input(\"Enter the values of b:\"))\n",
    "\n",
    "# addition, substraction, multiplication, quotient, remainder, power\n",
    "print (a, \"+\", b, \"is\", a + b) \n",
    "print (a, \"-\", b, \"is\", a - b)   \n",
    "print (a, \"*\", b, \"is\", a * b) \n",
    "print (a, \"/\", b, \"is\", a / b) \n",
    "print (a, \"%\", b, \"is\", a % b)\n",
    "print (a, \"^\", b, \"is\", a ** b)  "
   ]
  },
  {
   "cell_type": "code",
   "execution_count": 5,
   "id": "82a39f4d-bb37-4368-abe8-31be03e860f3",
   "metadata": {},
   "outputs": [
    {
     "name": "stdin",
     "output_type": "stream",
     "text": [
      "Enter a number:  2\n"
     ]
    },
    {
     "name": "stdout",
     "output_type": "stream",
     "text": [
      "2 This is an even number.\n"
     ]
    }
   ],
   "source": [
    "## Mod01_Lab 4: Even or Odd?\n",
    "num = int(input(\"Enter a number: \"))\n",
    "\n",
    "if num % 2 == 1:\n",
    "    print(num, \"This is an odd number.\")\n",
    "else:\n",
    "    print(num, \"This is an even number.\")"
   ]
  },
  {
   "cell_type": "code",
   "execution_count": 6,
   "id": "39dcda12-d9dd-43e3-b48e-3cf17bb4d7c9",
   "metadata": {},
   "outputs": [
    {
     "name": "stdin",
     "output_type": "stream",
     "text": [
      "Input a letter of the alphabet:  q\n"
     ]
    },
    {
     "name": "stdout",
     "output_type": "stream",
     "text": [
      "q is a consonant.\n"
     ]
    }
   ],
   "source": [
    "## Mod01_Lab 5:Vowel or Consonant\n",
    "x = input(\"Input a letter of the alphabet: \")\n",
    "\n",
    "if x in ('a', 'e', 'i', 'o', 'u'):\n",
    "    print(\"%s is a vowel.\" % x)\n",
    "elif x == 'y':\n",
    "    print(\"Sometimes letter y stand for vowel, sometimes stand for consonant.\")\n",
    "else:\n",
    "    print(\"%s is a consonant.\" % x) "
   ]
  },
  {
   "cell_type": "code",
   "execution_count": 7,
   "id": "868899d3-f02a-4fb5-a88b-630a472d3528",
   "metadata": {},
   "outputs": [
    {
     "name": "stdout",
     "output_type": "stream",
     "text": [
      "Input some integers to calculate their average. Input 0 to exit.\n"
     ]
    },
    {
     "name": "stdin",
     "output_type": "stream",
     "text": [
      " 2\n",
      " 3\n",
      " 4\n",
      " 0\n"
     ]
    },
    {
     "name": "stdout",
     "output_type": "stream",
     "text": [
      "Average of the above numbers are:  3.0\n"
     ]
    }
   ],
   "source": [
    "## Mod01_Lab 6: Average\n",
    "print(\"Input some integers to calculate their average. Input 0 to exit.\")\n",
    "\n",
    "count = 0\n",
    "sum = 0.0\n",
    "number = 1\n",
    "\n",
    "while number != 0:\n",
    "    number = int(input(\"\"))\n",
    "    sum = sum + number\n",
    "    count += 1\n",
    "\n",
    "if count == 0:\n",
    "    print(\"Input some numbers\")\n",
    "else:\n",
    "    print(\"Average of the above numbers are: \", sum / (count-1))"
   ]
  },
  {
   "cell_type": "code",
   "execution_count": 8,
   "id": "82bce18a-66d7-4738-93c4-3e0b82f57866",
   "metadata": {},
   "outputs": [
    {
     "name": "stdout",
     "output_type": "stream",
     "text": [
      "      1   2   3   4   5   6   7   8   9  10\n",
      "   1   1   2   3   4   5   6   7   8   9  10\n",
      "   2   2   4   6   8  10  12  14  16  18  20\n",
      "   3   3   6   9  12  15  18  21  24  27  30\n",
      "   4   4   8  12  16  20  24  28  32  36  40\n",
      "   5   5  10  15  20  25  30  35  40  45  50\n",
      "   6   6  12  18  24  30  36  42  48  54  60\n",
      "   7   7  14  21  28  35  42  49  56  63  70\n",
      "   8   8  16  24  32  40  48  56  64  72  80\n",
      "   9   9  18  27  36  45  54  63  72  81  90\n",
      "  10  10  20  30  40  50  60  70  80  90 100\n"
     ]
    }
   ],
   "source": [
    "## Mod01_Lab 7: Multiplication Table\n",
    "\n",
    "MIN=1\n",
    "MAX=10\n",
    "\n",
    "print (\"   \", end =\"\")\n",
    "\n",
    "for i in range(MIN, MAX+1):\n",
    "    print(\"%4d\" % i, end=\"\")\n",
    "print()\n",
    "\n",
    "for i in range(MIN, MAX+1):\n",
    "    print(\"%4d\" % i, end=\"\")\n",
    "    for j in range(MIN, MAX+1):\n",
    "        print(\"%4d\" % (i * j), end=\"\")\n",
    "    print()"
   ]
  },
  {
   "cell_type": "code",
   "execution_count": null,
   "id": "76abd842-7956-4e3b-aa37-3c088c752dd8",
   "metadata": {},
   "outputs": [],
   "source": []
  }
 ],
 "metadata": {
  "kernelspec": {
   "display_name": "ANA522 (default)",
   "language": "python",
   "name": "ada522"
  },
  "language_info": {
   "codemirror_mode": {
    "name": "ipython",
    "version": 3
   },
   "file_extension": ".py",
   "mimetype": "text/x-python",
   "name": "python",
   "nbconvert_exporter": "python",
   "pygments_lexer": "ipython3",
   "version": "3.8.5"
  }
 },
 "nbformat": 4,
 "nbformat_minor": 5
}
